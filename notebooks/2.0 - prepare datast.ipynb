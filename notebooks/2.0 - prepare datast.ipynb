{
 "cells": [
  {
   "cell_type": "markdown",
   "id": "17356ff4",
   "metadata": {},
   "source": [
    "# Create training and validation datasets"
   ]
  },
  {
   "cell_type": "code",
   "execution_count": 1,
   "id": "63dd7804",
   "metadata": {},
   "outputs": [],
   "source": [
    "%load_ext autoreload\n",
    "%autoreload 2"
   ]
  },
  {
   "cell_type": "code",
   "execution_count": 2,
   "id": "5433df45-5dc8-4f46-8a21-d48945c42680",
   "metadata": {},
   "outputs": [
    {
     "name": "stderr",
     "output_type": "stream",
     "text": [
      "2022-11-21 22:09:23.208396: I tensorflow/core/platform/cpu_feature_guard.cc:193] This TensorFlow binary is optimized with oneAPI Deep Neural Network Library (oneDNN) to use the following CPU instructions in performance-critical operations:  AVX2 FMA\n",
      "To enable them in other operations, rebuild TensorFlow with the appropriate compiler flags.\n"
     ]
    }
   ],
   "source": [
    "from bert4rec.dataprocessor import DataProcessor"
   ]
  },
  {
   "cell_type": "markdown",
   "id": "5489647a",
   "metadata": {},
   "source": [
    "## This may take some time"
   ]
  },
  {
   "cell_type": "code",
   "execution_count": 3,
   "id": "2478ea49",
   "metadata": {},
   "outputs": [
    {
     "name": "stderr",
     "output_type": "stream",
     "text": [
      "2022-11-21 22:09:48.332233: I tensorflow/core/platform/cpu_feature_guard.cc:193] This TensorFlow binary is optimized with oneAPI Deep Neural Network Library (oneDNN) to use the following CPU instructions in performance-critical operations:  AVX2 FMA\n",
      "To enable them in other operations, rebuild TensorFlow with the appropriate compiler flags.\n",
      "137068it [01:23, 1636.38it/s]\n"
     ]
    }
   ],
   "source": [
    "dataproc = DataProcessor(max_seq_length=256)\n",
    "\n",
    "dataproc.make_train_test_data(\n",
    "    input_data_path=\"../data/interim/raw_no_duplicates.tfrecords\", \n",
    "    output_data_path=\"../data/processed/training.tfrecords\", \n",
    "    is_training=True\n",
    ")"
   ]
  },
  {
   "cell_type": "code",
   "execution_count": 4,
   "id": "eba83579",
   "metadata": {},
   "outputs": [
    {
     "name": "stderr",
     "output_type": "stream",
     "text": [
      "137068it [01:32, 1476.08it/s]\n"
     ]
    }
   ],
   "source": [
    "dataproc = DataProcessor(max_seq_length=256)\n",
    "\n",
    "dataproc.make_train_test_data(\n",
    "    input_data_path=\"../data/interim/raw_no_duplicates.tfrecords\", \n",
    "    output_data_path=\"../data/processed/test.tfrecords\", \n",
    "    is_training=False\n",
    ")"
   ]
  },
  {
   "cell_type": "code",
   "execution_count": null,
   "id": "cdb893e7",
   "metadata": {},
   "outputs": [],
   "source": []
  }
 ],
 "metadata": {
  "kernelspec": {
   "display_name": "Python 3 (ipykernel)",
   "language": "python",
   "name": "python3"
  },
  "language_info": {
   "codemirror_mode": {
    "name": "ipython",
    "version": 3
   },
   "file_extension": ".py",
   "mimetype": "text/x-python",
   "name": "python",
   "nbconvert_exporter": "python",
   "pygments_lexer": "ipython3",
   "version": "3.8.13"
  }
 },
 "nbformat": 4,
 "nbformat_minor": 5
}

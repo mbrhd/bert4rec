{
 "cells": [
  {
   "cell_type": "code",
   "execution_count": null,
   "id": "34e9ad80",
   "metadata": {},
   "outputs": [],
   "source": [
    "%load_ext autoreload\n",
    "%autoreload 2"
   ]
  },
  {
   "cell_type": "code",
   "execution_count": null,
   "id": "4241120f",
   "metadata": {},
   "outputs": [],
   "source": [
    "from dataclasses import dataclass, asdict\n",
    "import glob\n",
    "import tensorflow as tf\n",
    "import pandas as pd\n",
    "from pprint import pprint"
   ]
  },
  {
   "cell_type": "markdown",
   "id": "bf284bc4",
   "metadata": {},
   "source": [
    "## Load parameters"
   ]
  },
  {
   "cell_type": "code",
   "execution_count": null,
   "id": "766c59ed",
   "metadata": {},
   "outputs": [],
   "source": [
    "@dataclass\n",
    "class Config:\n",
    "    num_layers:int=12\n",
    "    num_heads:int=32\n",
    "    d_model:int=128\n",
    "    dropout:float=0.1\n",
    "    layer_norm_eps:float=1e-12\n",
    "    activation:str=\"gelu\"\n",
    "    vocab_size:int=40857\n",
    "    max_seq_len:int=256\n",
    "    learning_rate:float=1e-4\n",
    "    batch_size:float=64\n",
    "        \n",
    "config=Config()"
   ]
  },
  {
   "cell_type": "markdown",
   "id": "7fc3c03f",
   "metadata": {},
   "source": [
    "# Prepare data"
   ]
  },
  {
   "cell_type": "code",
   "execution_count": null,
   "id": "e5ba216a",
   "metadata": {},
   "outputs": [],
   "source": [
    "filenames = glob.glob('../data/processed/*')\n",
    "filenames"
   ]
  },
  {
   "cell_type": "code",
   "execution_count": null,
   "id": "2b461d39",
   "metadata": {},
   "outputs": [],
   "source": [
    "train_data = tf.data.TFRecordDataset(filenames[1])\n",
    "test_data = tf.data.TFRecordDataset(filenames[0])"
   ]
  },
  {
   "cell_type": "code",
   "execution_count": null,
   "id": "9c764c36",
   "metadata": {},
   "outputs": [],
   "source": [
    "def _parse_tf_records(element):\n",
    "    # Parse the input `tf.train.Example` proto using the dictionary schema.\n",
    "    schema = {\n",
    "        \"info\": tf.io.FixedLenFeature([1], tf.int64),  # [user]\n",
    "        \"x_masked_tokens\": tf.io.FixedLenFeature([256], tf.int64),\n",
    "        \"y_tokens\": tf.io.FixedLenFeature([256], tf.int64),\n",
    "        \"mask_layer\": tf.io.FixedLenFeature([256], tf.int64),\n",
    "    }\n",
    "    content = tf.io.parse_single_example(element, schema)\n",
    "    return content"
   ]
  },
  {
   "cell_type": "code",
   "execution_count": null,
   "id": "e02f0c9b",
   "metadata": {},
   "outputs": [],
   "source": [
    "train_tf_records = train_data.map(_parse_tf_records)"
   ]
  },
  {
   "cell_type": "code",
   "execution_count": null,
   "id": "95ac86bb",
   "metadata": {},
   "outputs": [],
   "source": [
    "train_tf_records"
   ]
  },
  {
   "cell_type": "code",
   "execution_count": null,
   "id": "089e5c9b",
   "metadata": {},
   "outputs": [],
   "source": [
    "df_train = pd.DataFrame(\n",
    "    train_tf_records.as_numpy_iterator(),\n",
    "    columns=['info', 'x_masked_tokens', 'y_tokens', 'mask_layer']\n",
    ")\n",
    "df_train.head()"
   ]
  },
  {
   "cell_type": "code",
   "execution_count": null,
   "id": "2ea32765",
   "metadata": {},
   "outputs": [],
   "source": [
    "import numpy as np"
   ]
  },
  {
   "cell_type": "code",
   "execution_count": null,
   "id": "7f6bc374",
   "metadata": {
    "scrolled": true
   },
   "outputs": [],
   "source": [
    "movies_ds = tf.data.Dataset.from_tensor_slices(\n",
    "    (np.vstack(df_train.x_masked_tokens.to_numpy()), \n",
    "    np.vstack(df_train.y_tokens.to_numpy()), \n",
    "    np.vstack(df_train.mask_layer.to_numpy()))\n",
    ")"
   ]
  },
  {
   "cell_type": "code",
   "execution_count": null,
   "id": "53b11006",
   "metadata": {
    "scrolled": true
   },
   "outputs": [],
   "source": [
    "np.vstack(df.x_masked_tokens.to_numpy())"
   ]
  },
  {
   "cell_type": "code",
   "execution_count": null,
   "id": "bb67ee54",
   "metadata": {},
   "outputs": [],
   "source": [
    "movies_ds[]"
   ]
  },
  {
   "cell_type": "code",
   "execution_count": null,
   "id": "426a6221",
   "metadata": {},
   "outputs": [],
   "source": [
    "movies_ds = movies_ds.shuffle(1000).batch(config.batch_size)"
   ]
  },
  {
   "cell_type": "code",
   "execution_count": null,
   "id": "2b8fc315",
   "metadata": {},
   "outputs": [],
   "source": [
    "test = movies_ds.take(1)\n",
    "list(test.as_numpy_iterator())[0][0]"
   ]
  },
  {
   "cell_type": "markdown",
   "id": "2cc2b856",
   "metadata": {},
   "source": [
    "## Model"
   ]
  },
  {
   "cell_type": "code",
   "execution_count": null,
   "id": "24114d8b",
   "metadata": {},
   "outputs": [],
   "source": [
    "from bert4rec.bert import BertModel\n",
    "from bert4rec.trainer import BertTrainer\n",
    "# %autoreload 2\n",
    "# from bert4rec.trainer import BertTrainer"
   ]
  },
  {
   "cell_type": "code",
   "execution_count": null,
   "id": "1181ad78",
   "metadata": {},
   "outputs": [],
   "source": [
    "model = BertModel(\n",
    "    num_layers=config.num_layers,\n",
    "    num_heads=config.num_heads,\n",
    "    d_model=config.d_model,\n",
    "    dropout=config.dropout,\n",
    "    layer_norm_eps=config.layer_norm_eps,\n",
    "    activation=config.activation,\n",
    "    vocab_size=config.vocab_size,\n",
    "    max_seq_len=config.max_seq_len,\n",
    ")\n",
    "model.build((config.batch_size, config.max_seq_len))\n",
    "model.summary()"
   ]
  },
  {
   "cell_type": "code",
   "execution_count": null,
   "id": "874bb6fb",
   "metadata": {},
   "outputs": [],
   "source": [
    "bert_trainer = BertTrainer(model)\n",
    "bert_trainer.compile(\n",
    "    optimizer=tf.keras.optimizers.Adam(learning_rate=3e-4),\n",
    "    loss=tf.keras.losses.SparseCategoricalCrossentropy(from_logits=True),\n",
    ")"
   ]
  },
  {
   "cell_type": "code",
   "execution_count": null,
   "id": "fcafee38",
   "metadata": {},
   "outputs": [],
   "source": [
    "config"
   ]
  },
  {
   "cell_type": "code",
   "execution_count": null,
   "id": "83f4a19d",
   "metadata": {},
   "outputs": [],
   "source": [
    "bert_trainer.fit(movies_ds, batch_size=config.batch_size, epochs=14)"
   ]
  },
  {
   "cell_type": "code",
   "execution_count": null,
   "id": "e0524a64",
   "metadata": {},
   "outputs": [],
   "source": []
  },
  {
   "cell_type": "code",
   "execution_count": null,
   "id": "9b0bbdfa",
   "metadata": {},
   "outputs": [],
   "source": []
  },
  {
   "cell_type": "code",
   "execution_count": null,
   "id": "9391ba4b",
   "metadata": {},
   "outputs": [],
   "source": []
  },
  {
   "cell_type": "code",
   "execution_count": null,
   "id": "1635923c",
   "metadata": {},
   "outputs": [],
   "source": [
    "training = CustomFit(model)\n",
    "training.compile(\n",
    "    optimizer=tf.keras.optimizers.Adam(learning_rate=3e-4),\n",
    "    loss=tf.keras.losses.SparseCategoricalCrossentropy(from_logits=True),\n",
    ")\n"
   ]
  },
  {
   "cell_type": "code",
   "execution_count": null,
   "id": "15be072a",
   "metadata": {},
   "outputs": [],
   "source": [
    "training.fit(movies_ds, batch_size=64, epochs=2)"
   ]
  },
  {
   "cell_type": "code",
   "execution_count": null,
   "id": "da986f48",
   "metadata": {},
   "outputs": [],
   "source": [
    "training.evaluate(movies_ds, batch_size=64)"
   ]
  },
  {
   "cell_type": "code",
   "execution_count": null,
   "id": "3b554001",
   "metadata": {},
   "outputs": [],
   "source": []
  },
  {
   "cell_type": "code",
   "execution_count": null,
   "id": "26ce809d",
   "metadata": {},
   "outputs": [],
   "source": []
  },
  {
   "cell_type": "code",
   "execution_count": null,
   "id": "7f840831",
   "metadata": {},
   "outputs": [],
   "source": []
  },
  {
   "cell_type": "code",
   "execution_count": null,
   "id": "816ee8e4",
   "metadata": {},
   "outputs": [],
   "source": []
  },
  {
   "cell_type": "code",
   "execution_count": null,
   "id": "23324118",
   "metadata": {},
   "outputs": [],
   "source": [
    "print(CustomFit)\n",
    "print(isinstance(self, CustomFit))"
   ]
  },
  {
   "cell_type": "code",
   "execution_count": null,
   "id": "e38355f5",
   "metadata": {},
   "outputs": [],
   "source": []
  },
  {
   "cell_type": "code",
   "execution_count": null,
   "id": "755f5148",
   "metadata": {},
   "outputs": [],
   "source": [
    "optimizer = tf.keras.optimizers.Adam(learning_rate=1e-4)\n",
    "training.compile(optimizer=optimizer)\n",
    "training.summary()"
   ]
  },
  {
   "cell_type": "code",
   "execution_count": null,
   "id": "7dca7460",
   "metadata": {},
   "outputs": [],
   "source": [
    "model.fit(movies_ds, epochs=5)"
   ]
  },
  {
   "cell_type": "code",
   "execution_count": null,
   "id": "be80d8b9",
   "metadata": {},
   "outputs": [],
   "source": [
    "TypeError: super(type, obj): obj must be an instance or subtype of type"
   ]
  },
  {
   "cell_type": "code",
   "execution_count": null,
   "id": "f82f54b0",
   "metadata": {},
   "outputs": [],
   "source": []
  },
  {
   "cell_type": "code",
   "execution_count": null,
   "id": "55690b42",
   "metadata": {},
   "outputs": [],
   "source": [
    "def get_bert4rec_model(config):\n",
    "    inputs = tf.keras.layers.Input((config.max_seq_len,), dtype=tf.int64)\n",
    "    bert4rec_model = Bert(\n",
    "        num_layers=12,\n",
    "        num_heads=12,\n",
    "        d_model= 128,\n",
    "        dropout= 0.1,\n",
    "        layer_norm_eps= 1e-12,\n",
    "        activation=\"gelu\",\n",
    "        vocab_size=40857,\n",
    "        max_seq_len=512,\n",
    "    )\n",
    "    model = BertModel()(inputs, bert4rec_model(inputs), name=\"masked_bert_model\")\n",
    "    optimizer = keras.optimizers.Adam(learning_rate=config.LR)\n",
    "    model.compile(optimizer=optimizer)\n",
    "    return model"
   ]
  },
  {
   "cell_type": "code",
   "execution_count": null,
   "id": "0c5c2e1b",
   "metadata": {},
   "outputs": [],
   "source": [
    "bert_masked_model = get_bert4rec_model(config)\n",
    "bert_masked_model.summary()"
   ]
  },
  {
   "cell_type": "code",
   "execution_count": null,
   "id": "66744942",
   "metadata": {},
   "outputs": [],
   "source": []
  },
  {
   "cell_type": "code",
   "execution_count": null,
   "id": "40d4c026",
   "metadata": {},
   "outputs": [],
   "source": []
  },
  {
   "cell_type": "code",
   "execution_count": null,
   "id": "bc6d0eb7",
   "metadata": {},
   "outputs": [],
   "source": [
    "bert_masked_model.fit(mlm_ds, epochs=5, callbacks=[generator_callback])\n",
    "bert_masked_model.save(\"bert_mlm_imdb.h5\")"
   ]
  },
  {
   "cell_type": "code",
   "execution_count": null,
   "id": "f0b8c36e",
   "metadata": {},
   "outputs": [],
   "source": []
  },
  {
   "cell_type": "code",
   "execution_count": null,
   "id": "f6f09d7a",
   "metadata": {},
   "outputs": [],
   "source": []
  },
  {
   "cell_type": "code",
   "execution_count": null,
   "id": "f4bf765e",
   "metadata": {},
   "outputs": [],
   "source": []
  },
  {
   "cell_type": "code",
   "execution_count": null,
   "id": "39538e7d",
   "metadata": {},
   "outputs": [],
   "source": [
    "# Create example data\n",
    "data = {\n",
    "    'Age': 29,\n",
    "    'Movie': ['The Shawshank Redemption', 'Fight Club'],\n",
    "    'Movie Ratings': [9.0, 9.7],\n",
    "    'Suggestion': 'Inception',\n",
    "    'Suggestion Purchased': 1.0,\n",
    "    'Purchase Price': 9.99\n",
    "}\n",
    "\n",
    "print(data)"
   ]
  },
  {
   "cell_type": "code",
   "execution_count": null,
   "id": "c5c9433e",
   "metadata": {},
   "outputs": [],
   "source": [
    "# Create the Example\n",
    "example = tf.train.Example(features=tf.train.Features(feature={\n",
    "    'Age': tf.train.Feature(\n",
    "        int64_list=tf.train.Int64List(value=[data['Age']])),\n",
    "    'Movie': tf.train.Feature(\n",
    "        bytes_list=tf.train.BytesList(\n",
    "            value=[m.encode('utf-8') for m in data['Movie']])),\n",
    "    'Movie Ratings': tf.train.Feature(\n",
    "        float_list=tf.train.FloatList(value=data['Movie Ratings'])),\n",
    "    'Suggestion': tf.train.Feature(\n",
    "        bytes_list=tf.train.BytesList(\n",
    "            value=[data['Suggestion'].encode('utf-8')])),\n",
    "    'Suggestion Purchased': tf.train.Feature(\n",
    "        float_list=tf.train.FloatList(\n",
    "            value=[data['Suggestion Purchased']])),\n",
    "    'Purchase Price': tf.train.Feature(\n",
    "        float_list=tf.train.FloatList(value=[data['Purchase Price']]))\n",
    "}))\n",
    "\n",
    "print(example)"
   ]
  },
  {
   "cell_type": "code",
   "execution_count": null,
   "id": "bf00ef7f",
   "metadata": {},
   "outputs": [],
   "source": [
    "# Write TFrecord file\n",
    "with tf.io.TFRecordWriter('customer_1.tfrecord') as writer:\n",
    "    writer.write(example.SerializeToString())"
   ]
  },
  {
   "cell_type": "code",
   "execution_count": null,
   "id": "805cca4a",
   "metadata": {},
   "outputs": [],
   "source": []
  },
  {
   "cell_type": "code",
   "execution_count": null,
   "id": "7d2ddffe",
   "metadata": {},
   "outputs": [],
   "source": []
  },
  {
   "cell_type": "code",
   "execution_count": null,
   "id": "58dab90f",
   "metadata": {},
   "outputs": [],
   "source": [
    "dataset"
   ]
  },
  {
   "cell_type": "code",
   "execution_count": null,
   "id": "684aeb3d",
   "metadata": {},
   "outputs": [],
   "source": [
    "result"
   ]
  },
  {
   "cell_type": "code",
   "execution_count": null,
   "id": "3c330dce",
   "metadata": {},
   "outputs": [],
   "source": [
    "!pwd"
   ]
  },
  {
   "cell_type": "code",
   "execution_count": null,
   "id": "f84a5e08",
   "metadata": {},
   "outputs": [],
   "source": []
  },
  {
   "cell_type": "code",
   "execution_count": null,
   "id": "608c9a14",
   "metadata": {},
   "outputs": [],
   "source": [
    "# Read TFRecord file\n",
    "\n",
    "dataset =  tf.data.TFRecordDataset(['customer_1.tfrecord'])\n",
    "\n",
    "# _, serialized_example = reader.read(filename_queue)\n",
    "\n",
    "# Define features\n",
    "read_features = {\n",
    "    'Age': tf.io.FixedLenFeature([], dtype=tf.int64),\n",
    "    'Movie': tf.io.VarLenFeature(dtype=tf.string),\n",
    "    'Movie Ratings': tf.io.VarLenFeature(dtype=tf.float32),\n",
    "    'Suggestion': tf.io.FixedLenFeature([], dtype=tf.string),\n",
    "    'Suggestion Purchased': tf.io.FixedLenFeature([], dtype=tf.float32),\n",
    "    'Purchase Price': tf.io.FixedLenFeature([], dtype=tf.float32)\n",
    "}\n",
    "\n",
    "# Extract features from serialized data\n",
    "read_data = tf.io.parse_single_example(dataset, read_features)\n",
    "\n",
    "# Many tf.train functions use tf.train.QueueRunner,\n",
    "# so we need to start it before we read\n",
    "tf.train.start_queue_runners(sess)\n",
    "\n",
    "# Print features\n",
    "for name, tensor in read_data.items():\n",
    "    print('{}: {}'.format(name, tensor.eval()))"
   ]
  },
  {
   "cell_type": "code",
   "execution_count": null,
   "id": "c25eb907",
   "metadata": {},
   "outputs": [],
   "source": []
  }
 ],
 "metadata": {
  "kernelspec": {
   "display_name": "Python 3 (ipykernel)",
   "language": "python",
   "name": "python3"
  },
  "language_info": {
   "codemirror_mode": {
    "name": "ipython",
    "version": 3
   },
   "file_extension": ".py",
   "mimetype": "text/x-python",
   "name": "python",
   "nbconvert_exporter": "python",
   "pygments_lexer": "ipython3",
   "version": "3.8.13"
  }
 },
 "nbformat": 4,
 "nbformat_minor": 5
}

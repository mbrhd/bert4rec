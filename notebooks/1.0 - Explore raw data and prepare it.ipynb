{
 "cells": [
  {
   "cell_type": "markdown",
   "id": "93830af6",
   "metadata": {},
   "source": [
    "# We're going to look to the raw data"
   ]
  },
  {
   "cell_type": "code",
   "execution_count": 1,
   "id": "7dfccf83",
   "metadata": {},
   "outputs": [],
   "source": [
    "import glob\n",
    "import matplotlib.pyplot as plt\n",
    "import numpy as np\n",
    "import pandas as pd\n",
    "import tensorflow as tf\n",
    "from tqdm import tqdm"
   ]
  },
  {
   "cell_type": "markdown",
   "id": "03c56fa7",
   "metadata": {},
   "source": [
    "# EDA"
   ]
  },
  {
   "cell_type": "markdown",
   "id": "392840fa",
   "metadata": {},
   "source": [
    "## Read data"
   ]
  },
  {
   "cell_type": "code",
   "execution_count": 24,
   "id": "e5f2e6e5",
   "metadata": {},
   "outputs": [
    {
     "data": {
      "text/plain": [
       "['../data/raw/dataset/data-1.tfrecord',\n",
       " '../data/raw/dataset/data-0.tfrecord',\n",
       " '../data/raw/dataset/data-2.tfrecord',\n",
       " '../data/raw/dataset/data-3.tfrecord']"
      ]
     },
     "execution_count": 24,
     "metadata": {},
     "output_type": "execute_result"
    }
   ],
   "source": [
    "filenames = glob.glob('../data/raw/dataset/*')\n",
    "filenames"
   ]
  },
  {
   "cell_type": "code",
   "execution_count": 25,
   "id": "4ad94ae8",
   "metadata": {},
   "outputs": [
    {
     "data": {
      "text/plain": [
       "<TFRecordDatasetV2 element_spec=TensorSpec(shape=(), dtype=tf.string, name=None)>"
      ]
     },
     "execution_count": 25,
     "metadata": {},
     "output_type": "execute_result"
    }
   ],
   "source": [
    "raw_dataset = tf.data.TFRecordDataset(filenames)\n",
    "raw_dataset"
   ]
  },
  {
   "cell_type": "code",
   "execution_count": 53,
   "id": "e19b2ed3",
   "metadata": {},
   "outputs": [],
   "source": [
    "def _parse_tf_records(element):\n",
    "    # Parse the input `tf.train.Example` proto using the dictionary schema.\n",
    "    schema = {\n",
    "            \"userIndex\": tf.io.FixedLenFeature([], tf.int64),\n",
    "            \"movieIndices\": tf.io.RaggedFeature(tf.int64, row_splits_dtype=tf.int64),\n",
    "            \"timestamps\": tf.io.RaggedFeature(tf.int64, row_splits_dtype=tf.int64)\n",
    "    }\n",
    "    content = tf.io.parse_single_example(element, schema)\n",
    "    return content"
   ]
  },
  {
   "cell_type": "code",
   "execution_count": 54,
   "id": "53425430",
   "metadata": {},
   "outputs": [
    {
     "data": {
      "text/html": [
       "<div>\n",
       "<style scoped>\n",
       "    .dataframe tbody tr th:only-of-type {\n",
       "        vertical-align: middle;\n",
       "    }\n",
       "\n",
       "    .dataframe tbody tr th {\n",
       "        vertical-align: top;\n",
       "    }\n",
       "\n",
       "    .dataframe thead th {\n",
       "        text-align: right;\n",
       "    }\n",
       "</style>\n",
       "<table border=\"1\" class=\"dataframe\">\n",
       "  <thead>\n",
       "    <tr style=\"text-align: right;\">\n",
       "      <th></th>\n",
       "      <th>userIndex</th>\n",
       "      <th>movieIndices</th>\n",
       "      <th>timestamps</th>\n",
       "    </tr>\n",
       "  </thead>\n",
       "  <tbody>\n",
       "    <tr>\n",
       "      <th>0</th>\n",
       "      <td>49744</td>\n",
       "      <td>[2612, 190, 7780, 1279, 2593, 934]</td>\n",
       "      <td>[946265827, 946265827, 946266411, 946266496, 9...</td>\n",
       "    </tr>\n",
       "    <tr>\n",
       "      <th>1</th>\n",
       "      <td>49745</td>\n",
       "      <td>[813, 171, 1234, 1580, 43, 57, 1013, 175, 178,...</td>\n",
       "      <td>[941372629, 941372708, 941372708, 941372708, 9...</td>\n",
       "    </tr>\n",
       "    <tr>\n",
       "      <th>2</th>\n",
       "      <td>49746</td>\n",
       "      <td>[40, 46, 1191, 44, 158, 49, 1190, 528, 574, 39...</td>\n",
       "      <td>[837170891, 837170944, 837170987, 837170987, 8...</td>\n",
       "    </tr>\n",
       "    <tr>\n",
       "      <th>3</th>\n",
       "      <td>49747</td>\n",
       "      <td>[162, 51, 175, 109, 1016, 169, 994]</td>\n",
       "      <td>[1546520504, 1546520514, 1546520519, 154652056...</td>\n",
       "    </tr>\n",
       "    <tr>\n",
       "      <th>4</th>\n",
       "      <td>49748</td>\n",
       "      <td>[4957, 29, 10070, 8257, 2160, 18, 432, 9133, 7...</td>\n",
       "      <td>[1476643481, 1476643487, 1476643874, 147664402...</td>\n",
       "    </tr>\n",
       "  </tbody>\n",
       "</table>\n",
       "</div>"
      ],
      "text/plain": [
       "   userIndex                                       movieIndices  \\\n",
       "0      49744                 [2612, 190, 7780, 1279, 2593, 934]   \n",
       "1      49745  [813, 171, 1234, 1580, 43, 57, 1013, 175, 178,...   \n",
       "2      49746  [40, 46, 1191, 44, 158, 49, 1190, 528, 574, 39...   \n",
       "3      49747                [162, 51, 175, 109, 1016, 169, 994]   \n",
       "4      49748  [4957, 29, 10070, 8257, 2160, 18, 432, 9133, 7...   \n",
       "\n",
       "                                          timestamps  \n",
       "0  [946265827, 946265827, 946266411, 946266496, 9...  \n",
       "1  [941372629, 941372708, 941372708, 941372708, 9...  \n",
       "2  [837170891, 837170944, 837170987, 837170987, 8...  \n",
       "3  [1546520504, 1546520514, 1546520519, 154652056...  \n",
       "4  [1476643481, 1476643487, 1476643874, 147664402...  "
      ]
     },
     "execution_count": 54,
     "metadata": {},
     "output_type": "execute_result"
    }
   ],
   "source": [
    "parsed_tf_records = raw_dataset.map(_parse_tf_records)\n",
    "\n",
    "df = pd.DataFrame(\n",
    "    parsed_tf_records.as_numpy_iterator(),\n",
    "    columns=['userIndex', 'movieIndices', 'timestamps']\n",
    ")\n",
    "df.head()"
   ]
  },
  {
   "cell_type": "code",
   "execution_count": 7,
   "id": "030b92c3",
   "metadata": {},
   "outputs": [
    {
     "data": {
      "text/plain": [
       "137068"
      ]
     },
     "execution_count": 7,
     "metadata": {},
     "output_type": "execute_result"
    }
   ],
   "source": [
    "df.userIndex.nunique()"
   ]
  },
  {
   "cell_type": "code",
   "execution_count": 8,
   "id": "635b2e98",
   "metadata": {},
   "outputs": [
    {
     "data": {
      "text/plain": [
       "array([array([170, 171, 298, 282, 316, 330, 148, 301, 304, 289, 320, 328, 337,\n",
       "              300, 287, 293, 451, 216])                                       ,\n",
       "       array([166, 453, 209, 159, 161, 153, 155, 454, 156, 178, 461, 226, 172,\n",
       "              247, 191, 193, 261, 176, 274, 234, 201, 150, 463, 459, 438, 439,\n",
       "              429, 416, 352, 188, 275])                                       ,\n",
       "       array([355, 399, 374, 359, 383, 386, 462, 464])], dtype=object)"
      ]
     },
     "execution_count": 8,
     "metadata": {},
     "output_type": "execute_result"
    }
   ],
   "source": [
    "df[df.userIndex==2].movieIndices.values"
   ]
  },
  {
   "cell_type": "markdown",
   "id": "256b350b",
   "metadata": {},
   "source": [
    "__remark__: There are duplicates of same user. It seems that the records where splitted in a chronological way. Let's fix it"
   ]
  },
  {
   "cell_type": "markdown",
   "id": "fcbff21d",
   "metadata": {},
   "source": [
    "## Clean duplicates"
   ]
  },
  {
   "cell_type": "code",
   "execution_count": 9,
   "id": "c8684b62",
   "metadata": {},
   "outputs": [],
   "source": [
    "def _create_ts_col_sort(df: pd.DataFrame):\n",
    "    return (\n",
    "        df\n",
    "        .assign(seq_timestamps = pd.to_datetime(df.timestamps.apply(lambda x: x[0]), unit='s'))\n",
    "        .sort_values('seq_timestamps')\n",
    "        .reset_index(drop=True)\n",
    "        .drop(columns=['seq_timestamps'])\n",
    "    )\n",
    "\n",
    "\n",
    "def _group_by_userIndex(df):\n",
    "    return (\n",
    "        df.groupby('userIndex').agg({\n",
    "            'movieIndices': lambda x: list(np.concatenate(x.values)),\n",
    "            'timestamps': lambda x: list(np.concatenate(x.values))\n",
    "        })\n",
    "        .reset_index()\n",
    "        .sort_values(by='userIndex')\n",
    "    )"
   ]
  },
  {
   "cell_type": "code",
   "execution_count": 10,
   "id": "e311be84",
   "metadata": {},
   "outputs": [],
   "source": [
    "df = (\n",
    "    df\n",
    "    .pipe(_create_ts_col_sort)\n",
    "    .pipe(_group_by_userIndex)\n",
    ")"
   ]
  },
  {
   "cell_type": "code",
   "execution_count": 11,
   "id": "39c812a6",
   "metadata": {},
   "outputs": [
    {
     "data": {
      "text/html": [
       "<div>\n",
       "<style scoped>\n",
       "    .dataframe tbody tr th:only-of-type {\n",
       "        vertical-align: middle;\n",
       "    }\n",
       "\n",
       "    .dataframe tbody tr th {\n",
       "        vertical-align: top;\n",
       "    }\n",
       "\n",
       "    .dataframe thead th {\n",
       "        text-align: right;\n",
       "    }\n",
       "</style>\n",
       "<table border=\"1\" class=\"dataframe\">\n",
       "  <thead>\n",
       "    <tr style=\"text-align: right;\">\n",
       "      <th></th>\n",
       "      <th>userIndex</th>\n",
       "      <th>movieIndices</th>\n",
       "      <th>timestamps</th>\n",
       "    </tr>\n",
       "  </thead>\n",
       "  <tbody>\n",
       "    <tr>\n",
       "      <th>0</th>\n",
       "      <td>0</td>\n",
       "      <td>[22, 6, 5, 25, 12, 3, 26, 14, 34, 21, 1, 4, 32...</td>\n",
       "      <td>[1147868053, 1147868097, 1147868414, 114786846...</td>\n",
       "    </tr>\n",
       "    <tr>\n",
       "      <th>1</th>\n",
       "      <td>2</td>\n",
       "      <td>[170, 171, 298, 282, 316, 330, 148, 301, 304, ...</td>\n",
       "      <td>[1453904021, 1453904031, 1453904046, 145390404...</td>\n",
       "    </tr>\n",
       "    <tr>\n",
       "      <th>2</th>\n",
       "      <td>3</td>\n",
       "      <td>[165, 470, 512, 181, 185, 475, 471, 476, 473, ...</td>\n",
       "      <td>[1573942880, 1573943155, 1573943272, 157394359...</td>\n",
       "    </tr>\n",
       "    <tr>\n",
       "      <th>3</th>\n",
       "      <td>4</td>\n",
       "      <td>[40, 0, 533, 540, 527, 528, 530, 151, 529, 517...</td>\n",
       "      <td>[830786155, 830786155, 830786193, 830786193, 8...</td>\n",
       "    </tr>\n",
       "    <tr>\n",
       "      <th>4</th>\n",
       "      <td>5</td>\n",
       "      <td>[558, 162, 562, 43, 51, 44, 158, 557, 58, 561,...</td>\n",
       "      <td>[945141564, 945141827, 945141942, 945142152, 9...</td>\n",
       "    </tr>\n",
       "    <tr>\n",
       "      <th>...</th>\n",
       "      <td>...</td>\n",
       "      <td>...</td>\n",
       "      <td>...</td>\n",
       "    </tr>\n",
       "    <tr>\n",
       "      <th>137063</th>\n",
       "      <td>162335</td>\n",
       "      <td>[546, 782, 51, 1192, 1216, 694, 1938, 1605, 67...</td>\n",
       "      <td>[944960871, 944960871, 944960967, 944961024, 9...</td>\n",
       "    </tr>\n",
       "    <tr>\n",
       "      <th>137064</th>\n",
       "      <td>162336</td>\n",
       "      <td>[0, 44, 166, 1430, 4373, 4374, 15723, 109, 335...</td>\n",
       "      <td>[1572257729, 1572257742, 1572257747, 157225775...</td>\n",
       "    </tr>\n",
       "    <tr>\n",
       "      <th>137065</th>\n",
       "      <td>162339</td>\n",
       "      <td>[627, 705, 60, 1051, 780, 557, 831, 3580, 208,...</td>\n",
       "      <td>[995149720, 995149760, 995149788, 995149788, 9...</td>\n",
       "    </tr>\n",
       "    <tr>\n",
       "      <th>137066</th>\n",
       "      <td>162340</td>\n",
       "      <td>[360, 25, 141, 116, 3203, 966, 3220, 3699]</td>\n",
       "      <td>[1249028189, 1249028584, 1249028593, 124902967...</td>\n",
       "    </tr>\n",
       "    <tr>\n",
       "      <th>137067</th>\n",
       "      <td>162341</td>\n",
       "      <td>[1336, 1352, 1903, 828, 55, 1236, 69, 1340, 12...</td>\n",
       "      <td>[1240947363, 1240947373, 1240947377, 124094738...</td>\n",
       "    </tr>\n",
       "  </tbody>\n",
       "</table>\n",
       "<p>137068 rows × 3 columns</p>\n",
       "</div>"
      ],
      "text/plain": [
       "        userIndex                                       movieIndices  \\\n",
       "0               0  [22, 6, 5, 25, 12, 3, 26, 14, 34, 21, 1, 4, 32...   \n",
       "1               2  [170, 171, 298, 282, 316, 330, 148, 301, 304, ...   \n",
       "2               3  [165, 470, 512, 181, 185, 475, 471, 476, 473, ...   \n",
       "3               4  [40, 0, 533, 540, 527, 528, 530, 151, 529, 517...   \n",
       "4               5  [558, 162, 562, 43, 51, 44, 158, 557, 58, 561,...   \n",
       "...           ...                                                ...   \n",
       "137063     162335  [546, 782, 51, 1192, 1216, 694, 1938, 1605, 67...   \n",
       "137064     162336  [0, 44, 166, 1430, 4373, 4374, 15723, 109, 335...   \n",
       "137065     162339  [627, 705, 60, 1051, 780, 557, 831, 3580, 208,...   \n",
       "137066     162340         [360, 25, 141, 116, 3203, 966, 3220, 3699]   \n",
       "137067     162341  [1336, 1352, 1903, 828, 55, 1236, 69, 1340, 12...   \n",
       "\n",
       "                                               timestamps  \n",
       "0       [1147868053, 1147868097, 1147868414, 114786846...  \n",
       "1       [1453904021, 1453904031, 1453904046, 145390404...  \n",
       "2       [1573942880, 1573943155, 1573943272, 157394359...  \n",
       "3       [830786155, 830786155, 830786193, 830786193, 8...  \n",
       "4       [945141564, 945141827, 945141942, 945142152, 9...  \n",
       "...                                                   ...  \n",
       "137063  [944960871, 944960871, 944960967, 944961024, 9...  \n",
       "137064  [1572257729, 1572257742, 1572257747, 157225775...  \n",
       "137065  [995149720, 995149760, 995149788, 995149788, 9...  \n",
       "137066  [1249028189, 1249028584, 1249028593, 124902967...  \n",
       "137067  [1240947363, 1240947373, 1240947377, 124094738...  \n",
       "\n",
       "[137068 rows x 3 columns]"
      ]
     },
     "execution_count": 11,
     "metadata": {},
     "output_type": "execute_result"
    }
   ],
   "source": [
    "df"
   ]
  },
  {
   "cell_type": "markdown",
   "id": "a13ef336",
   "metadata": {},
   "source": [
    "## Some analysis"
   ]
  },
  {
   "cell_type": "code",
   "execution_count": 12,
   "id": "c64a385b",
   "metadata": {},
   "outputs": [],
   "source": [
    "indices_len = df.movieIndices.apply(len)"
   ]
  },
  {
   "cell_type": "code",
   "execution_count": 13,
   "id": "d525c552",
   "metadata": {},
   "outputs": [
    {
     "data": {
      "text/plain": [
       "16     3794\n",
       "17     3783\n",
       "15     3726\n",
       "19     3636\n",
       "14     3621\n",
       "       ... \n",
       "496       1\n",
       "584       1\n",
       "585       1\n",
       "653       1\n",
       "470       1\n",
       "Name: movieIndices, Length: 555, dtype: int64"
      ]
     },
     "execution_count": 13,
     "metadata": {},
     "output_type": "execute_result"
    }
   ],
   "source": [
    "indices_len.value_counts()"
   ]
  },
  {
   "cell_type": "code",
   "execution_count": 17,
   "id": "4474035a",
   "metadata": {},
   "outputs": [
    {
     "data": {
      "text/plain": [
       "count    137068.000000\n",
       "mean         38.296101\n",
       "std          44.072684\n",
       "min           4.000000\n",
       "25%          16.000000\n",
       "50%          27.000000\n",
       "75%          44.000000\n",
       "max        1746.000000\n",
       "Name: movieIndices, dtype: float64"
      ]
     },
     "execution_count": 17,
     "metadata": {},
     "output_type": "execute_result"
    }
   ],
   "source": [
    "indices_len.describe()"
   ]
  },
  {
   "cell_type": "code",
   "execution_count": 16,
   "id": "11856bf3",
   "metadata": {},
   "outputs": [
    {
     "data": {
      "text/plain": [
       "<AxesSubplot:ylabel='Density'>"
      ]
     },
     "execution_count": 16,
     "metadata": {},
     "output_type": "execute_result"
    },
    {
     "data": {
      "image/png": "[encoded data removed]",
      "text/plain": [
       "<Figure size 1500x500 with 3 Axes>"
      ]
     },
     "metadata": {},
     "output_type": "display_data"
    }
   ],
   "source": [
    "fig, (ax1, ax2, ax3) = plt.subplots(1, 3, figsize=(15, 5))\n",
    "indices_len.plot.box(ax=ax1)\n",
    "indices_len.plot.hist(ax=ax2, bins=200)\n",
    "indices_len.plot.kde(ax=ax3)"
   ]
  },
  {
   "cell_type": "markdown",
   "id": "fbf0fb91",
   "metadata": {},
   "source": [
    "## Write data to interim and replace by token"
   ]
  },
  {
   "cell_type": "code",
   "execution_count": 18,
   "id": "06a4e980",
   "metadata": {},
   "outputs": [],
   "source": [
    "def _create_tf_records(features):\n",
    "    tf_example = tf.train.Example(\n",
    "        features=tf.train.Features(feature={\n",
    "            'userIndex': tf.train.Feature(bytes_list=tf.train.int64List(\n",
    "                value=[features[0]])),\n",
    "            'movieIndices': tf.train.Feature(int64_list=tf.train.Int64List(\n",
    "                value=[features[1]])),\n",
    "            'timestamps': tf.train.Feature(int64_list=tf.train.Int64List(\n",
    "                value=features[2])),\n",
    "    }))\n",
    "    return tf_example"
   ]
  },
  {
   "cell_type": "code",
   "execution_count": null,
   "id": "d8dfdc20",
   "metadata": {},
   "outputs": [],
   "source": [
    "with tf.io.TFRecordWriter(\"../data/interim/raw_no_duplicates.tfrecords\") as writer:\n",
    "    for i in tqdm(range(df.shape[0])):\n",
    "        row_series = df.iloc[i, :]\n",
    "        tf_example = _create_tf_records(row_series)\n",
    "        writer.write(tf_example.SerializeToString())"
   ]
  },
  {
   "cell_type": "code",
   "execution_count": null,
   "id": "29340c46",
   "metadata": {},
   "outputs": [],
   "source": []
  }
 ],
 "metadata": {
  "kernelspec": {
   "display_name": "Python 3 (ipykernel)",
   "language": "python",
   "name": "python3"
  },
  "language_info": {
   "codemirror_mode": {
    "name": "ipython",
    "version": 3
   },
   "file_extension": ".py",
   "mimetype": "text/x-python",
   "name": "python",
   "nbconvert_exporter": "python",
   "pygments_lexer": "ipython3",
   "version": "3.9.15"
  }
 },
 "nbformat": 4,
 "nbformat_minor": 5
}
